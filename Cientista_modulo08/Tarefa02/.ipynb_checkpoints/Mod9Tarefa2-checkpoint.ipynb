{
 "cells": [
  {
   "cell_type": "markdown",
   "metadata": {},
   "source": [
    "# Livro para consulta:\n",
    "- https://jakevdp.github.io/PythonDataScienceHandbook/03.08-aggregation-and-grouping.html\n",
    "- https://jakevdp.github.io/PythonDataScienceHandbook/03.09-pivot-tables.html\n",
    "    "
   ]
  },
  {
   "cell_type": "markdown",
   "metadata": {},
   "source": [
    "# 1. Importando bibliotecas <a name=\"import\"></a>\n",
    "\n",
    "<div style=\"text-align: right\"\n",
    "     \n",
    "[Voltar ao índice](#Contents)"
   ]
  },
  {
   "cell_type": "code",
   "execution_count": 1,
   "metadata": {
    "ExecuteTime": {
     "end_time": "2021-06-06T21:12:37.298706Z",
     "start_time": "2021-06-06T21:12:36.656481Z"
    }
   },
   "outputs": [],
   "source": [
    "import numpy as np\n",
    "import pandas as pd\n",
    "import seaborn as sns\n",
    "import matplotlib.pyplot as plt\n",
    "\n",
    "%matplotlib inline"
   ]
  },
  {
   "cell_type": "code",
   "execution_count": null,
   "metadata": {},
   "outputs": [],
   "source": []
  },
  {
   "cell_type": "markdown",
   "metadata": {},
   "source": [
    "# 2. Carregando o dataframe SINASC <a name=\"read\"></a>\n",
    "<div style=\"text-align: right\"\n",
    "     \n",
    "[Voltar ao índice](#Contents)"
   ]
  },
  {
   "cell_type": "code",
   "execution_count": 2,
   "metadata": {
    "ExecuteTime": {
     "end_time": "2021-06-06T21:12:37.762376Z",
     "start_time": "2021-06-06T21:12:37.728383Z"
    },
    "scrolled": true
   },
   "outputs": [
    {
     "data": {
      "text/html": [
       "<div>\n",
       "<style scoped>\n",
       "    .dataframe tbody tr th:only-of-type {\n",
       "        vertical-align: middle;\n",
       "    }\n",
       "\n",
       "    .dataframe tbody tr th {\n",
       "        vertical-align: top;\n",
       "    }\n",
       "\n",
       "    .dataframe thead th {\n",
       "        text-align: right;\n",
       "    }\n",
       "</style>\n",
       "<table border=\"1\" class=\"dataframe\">\n",
       "  <thead>\n",
       "    <tr style=\"text-align: right;\">\n",
       "      <th></th>\n",
       "      <th>ORIGEM</th>\n",
       "      <th>CODESTAB</th>\n",
       "      <th>CODMUNNASC</th>\n",
       "      <th>LOCNASC</th>\n",
       "      <th>IDADEMAE</th>\n",
       "      <th>ESTCIVMAE</th>\n",
       "      <th>ESCMAE</th>\n",
       "      <th>CODOCUPMAE</th>\n",
       "      <th>QTDFILVIVO</th>\n",
       "      <th>QTDFILMORT</th>\n",
       "      <th>...</th>\n",
       "      <th>KOTELCHUCK</th>\n",
       "      <th>CONTADOR</th>\n",
       "      <th>munResStatus</th>\n",
       "      <th>munResTipo</th>\n",
       "      <th>munResNome</th>\n",
       "      <th>munResUf</th>\n",
       "      <th>munResLat</th>\n",
       "      <th>munResLon</th>\n",
       "      <th>munResAlt</th>\n",
       "      <th>munResArea</th>\n",
       "    </tr>\n",
       "  </thead>\n",
       "  <tbody>\n",
       "    <tr>\n",
       "      <th>0</th>\n",
       "      <td>1</td>\n",
       "      <td>2679477.0</td>\n",
       "      <td>110001</td>\n",
       "      <td>1</td>\n",
       "      <td>19</td>\n",
       "      <td>5.0</td>\n",
       "      <td>8 a 11 anos</td>\n",
       "      <td>NaN</td>\n",
       "      <td>0.0</td>\n",
       "      <td>0.0</td>\n",
       "      <td>...</td>\n",
       "      <td>5</td>\n",
       "      <td>1</td>\n",
       "      <td>ATIVO</td>\n",
       "      <td>MUNIC</td>\n",
       "      <td>Alta Floresta D'Oeste</td>\n",
       "      <td>Rondônia</td>\n",
       "      <td>-11.93554</td>\n",
       "      <td>-61.99982</td>\n",
       "      <td>338.0</td>\n",
       "      <td>7067.025</td>\n",
       "    </tr>\n",
       "    <tr>\n",
       "      <th>1</th>\n",
       "      <td>1</td>\n",
       "      <td>2679477.0</td>\n",
       "      <td>110001</td>\n",
       "      <td>1</td>\n",
       "      <td>29</td>\n",
       "      <td>2.0</td>\n",
       "      <td>8 a 11 anos</td>\n",
       "      <td>999992.0</td>\n",
       "      <td>1.0</td>\n",
       "      <td>0.0</td>\n",
       "      <td>...</td>\n",
       "      <td>5</td>\n",
       "      <td>2</td>\n",
       "      <td>ATIVO</td>\n",
       "      <td>MUNIC</td>\n",
       "      <td>Alta Floresta D'Oeste</td>\n",
       "      <td>Rondônia</td>\n",
       "      <td>-11.93554</td>\n",
       "      <td>-61.99982</td>\n",
       "      <td>338.0</td>\n",
       "      <td>7067.025</td>\n",
       "    </tr>\n",
       "    <tr>\n",
       "      <th>2</th>\n",
       "      <td>1</td>\n",
       "      <td>2679477.0</td>\n",
       "      <td>110001</td>\n",
       "      <td>1</td>\n",
       "      <td>37</td>\n",
       "      <td>9.0</td>\n",
       "      <td>8 a 11 anos</td>\n",
       "      <td>513205.0</td>\n",
       "      <td>2.0</td>\n",
       "      <td>0.0</td>\n",
       "      <td>...</td>\n",
       "      <td>5</td>\n",
       "      <td>3</td>\n",
       "      <td>ATIVO</td>\n",
       "      <td>MUNIC</td>\n",
       "      <td>Alta Floresta D'Oeste</td>\n",
       "      <td>Rondônia</td>\n",
       "      <td>-11.93554</td>\n",
       "      <td>-61.99982</td>\n",
       "      <td>338.0</td>\n",
       "      <td>7067.025</td>\n",
       "    </tr>\n",
       "    <tr>\n",
       "      <th>3</th>\n",
       "      <td>1</td>\n",
       "      <td>2516500.0</td>\n",
       "      <td>110001</td>\n",
       "      <td>1</td>\n",
       "      <td>30</td>\n",
       "      <td>5.0</td>\n",
       "      <td>12 anos ou mais</td>\n",
       "      <td>231205.0</td>\n",
       "      <td>0.0</td>\n",
       "      <td>0.0</td>\n",
       "      <td>...</td>\n",
       "      <td>4</td>\n",
       "      <td>4</td>\n",
       "      <td>ATIVO</td>\n",
       "      <td>MUNIC</td>\n",
       "      <td>Alto Alegre dos Parecis</td>\n",
       "      <td>Rondônia</td>\n",
       "      <td>-12.13178</td>\n",
       "      <td>-61.85308</td>\n",
       "      <td>397.0</td>\n",
       "      <td>3958.273</td>\n",
       "    </tr>\n",
       "    <tr>\n",
       "      <th>4</th>\n",
       "      <td>1</td>\n",
       "      <td>2516500.0</td>\n",
       "      <td>110001</td>\n",
       "      <td>1</td>\n",
       "      <td>30</td>\n",
       "      <td>2.0</td>\n",
       "      <td>8 a 11 anos</td>\n",
       "      <td>999992.0</td>\n",
       "      <td>1.0</td>\n",
       "      <td>0.0</td>\n",
       "      <td>...</td>\n",
       "      <td>5</td>\n",
       "      <td>5</td>\n",
       "      <td>ATIVO</td>\n",
       "      <td>MUNIC</td>\n",
       "      <td>Alta Floresta D'Oeste</td>\n",
       "      <td>Rondônia</td>\n",
       "      <td>-11.93554</td>\n",
       "      <td>-61.99982</td>\n",
       "      <td>338.0</td>\n",
       "      <td>7067.025</td>\n",
       "    </tr>\n",
       "  </tbody>\n",
       "</table>\n",
       "<p>5 rows × 69 columns</p>\n",
       "</div>"
      ],
      "text/plain": [
       "   ORIGEM   CODESTAB  CODMUNNASC  LOCNASC  IDADEMAE  ESTCIVMAE  \\\n",
       "0       1  2679477.0      110001        1        19        5.0   \n",
       "1       1  2679477.0      110001        1        29        2.0   \n",
       "2       1  2679477.0      110001        1        37        9.0   \n",
       "3       1  2516500.0      110001        1        30        5.0   \n",
       "4       1  2516500.0      110001        1        30        2.0   \n",
       "\n",
       "            ESCMAE  CODOCUPMAE  QTDFILVIVO  QTDFILMORT  ...  KOTELCHUCK  \\\n",
       "0      8 a 11 anos         NaN         0.0         0.0  ...           5   \n",
       "1      8 a 11 anos    999992.0         1.0         0.0  ...           5   \n",
       "2      8 a 11 anos    513205.0         2.0         0.0  ...           5   \n",
       "3  12 anos ou mais    231205.0         0.0         0.0  ...           4   \n",
       "4      8 a 11 anos    999992.0         1.0         0.0  ...           5   \n",
       "\n",
       "  CONTADOR munResStatus munResTipo               munResNome  munResUf  \\\n",
       "0        1        ATIVO      MUNIC    Alta Floresta D'Oeste  Rondônia   \n",
       "1        2        ATIVO      MUNIC    Alta Floresta D'Oeste  Rondônia   \n",
       "2        3        ATIVO      MUNIC    Alta Floresta D'Oeste  Rondônia   \n",
       "3        4        ATIVO      MUNIC  Alto Alegre dos Parecis  Rondônia   \n",
       "4        5        ATIVO      MUNIC    Alta Floresta D'Oeste  Rondônia   \n",
       "\n",
       "   munResLat munResLon  munResAlt  munResArea  \n",
       "0  -11.93554 -61.99982      338.0    7067.025  \n",
       "1  -11.93554 -61.99982      338.0    7067.025  \n",
       "2  -11.93554 -61.99982      338.0    7067.025  \n",
       "3  -12.13178 -61.85308      397.0    3958.273  \n",
       "4  -11.93554 -61.99982      338.0    7067.025  \n",
       "\n",
       "[5 rows x 69 columns]"
      ]
     },
     "execution_count": 2,
     "metadata": {},
     "output_type": "execute_result"
    }
   ],
   "source": [
    "sinasc_raw = pd.read_csv('SINASC_RO_2019.csv')\n",
    "sinasc_raw.head()"
   ]
  },
  {
   "cell_type": "markdown",
   "metadata": {},
   "source": [
    "# Tarefa 2"
   ]
  },
  {
   "cell_type": "markdown",
   "metadata": {},
   "source": [
    "### 1. Crie 2 faixas de Latitude do município (munResLat) sendo uma acima e outra abaixo de -10.5 e aplique o groupby usando essas faixas como chave e realize operações de soma, media, minimo, maximo, mediana, desvio padrao, variancia pra pelo menos 2 variáveis numéricas ainda não utilizadas"
   ]
  },
  {
   "cell_type": "code",
   "execution_count": 3,
   "metadata": {},
   "outputs": [
    {
     "data": {
      "text/plain": [
       "-13.49976"
      ]
     },
     "execution_count": 3,
     "metadata": {},
     "output_type": "execute_result"
    }
   ],
   "source": [
    "sinasc_raw['munResLat'].min()"
   ]
  },
  {
   "cell_type": "code",
   "execution_count": 4,
   "metadata": {},
   "outputs": [
    {
     "data": {
      "text/plain": [
       "-8.76889"
      ]
     },
     "execution_count": 4,
     "metadata": {},
     "output_type": "execute_result"
    }
   ],
   "source": [
    "sinasc_raw['munResLat'].max()"
   ]
  },
  {
   "cell_type": "code",
   "execution_count": 5,
   "metadata": {},
   "outputs": [
    {
     "data": {
      "text/plain": [
       "0    (-14.0, -10.5]\n",
       "1    (-14.0, -10.5]\n",
       "2    (-14.0, -10.5]\n",
       "3    (-14.0, -10.5]\n",
       "4    (-14.0, -10.5]\n",
       "Name: munResLat, dtype: category\n",
       "Categories (2, interval[float64, right]): [(-14.0, -10.5] < (-10.5, -7.0]]"
      ]
     },
     "execution_count": 5,
     "metadata": {},
     "output_type": "execute_result"
    }
   ],
   "source": [
    "faixa_latitude = pd.cut(sinasc_raw['munResLat'], [-14, -10.5, -7])\n",
    "faixa_latitude.head()"
   ]
  },
  {
   "cell_type": "code",
   "execution_count": 6,
   "metadata": {},
   "outputs": [
    {
     "name": "stdout",
     "output_type": "stream",
     "text": [
      "<class 'pandas.core.frame.DataFrame'>\n",
      "RangeIndex: 27028 entries, 0 to 27027\n",
      "Data columns (total 69 columns):\n",
      " #   Column        Non-Null Count  Dtype  \n",
      "---  ------        --------------  -----  \n",
      " 0   ORIGEM        27028 non-null  int64  \n",
      " 1   CODESTAB      26913 non-null  float64\n",
      " 2   CODMUNNASC    27028 non-null  int64  \n",
      " 3   LOCNASC       27028 non-null  int64  \n",
      " 4   IDADEMAE      27028 non-null  int64  \n",
      " 5   ESTCIVMAE     26711 non-null  float64\n",
      " 6   ESCMAE        26716 non-null  object \n",
      " 7   CODOCUPMAE    24121 non-null  float64\n",
      " 8   QTDFILVIVO    25455 non-null  float64\n",
      " 9   QTDFILMORT    24930 non-null  float64\n",
      " 10  CODMUNRES     27028 non-null  int64  \n",
      " 11  GESTACAO      25796 non-null  object \n",
      " 12  GRAVIDEZ      26949 non-null  object \n",
      " 13  PARTO         26979 non-null  object \n",
      " 14  CONSULTAS     27028 non-null  int64  \n",
      " 15  DTNASC        27028 non-null  object \n",
      " 16  HORANASC      27007 non-null  float64\n",
      " 17  SEXO          27024 non-null  object \n",
      " 18  APGAR1        26932 non-null  float64\n",
      " 19  APGAR5        26925 non-null  float64\n",
      " 20  RACACOR       26381 non-null  object \n",
      " 21  PESO          27028 non-null  int64  \n",
      " 22  IDANOMAL      26437 non-null  float64\n",
      " 23  DTCADASTRO    27028 non-null  object \n",
      " 24  CODANOMAL     214 non-null    object \n",
      " 25  NUMEROLOTE    27028 non-null  int64  \n",
      " 26  VERSAOSIST    27028 non-null  object \n",
      " 27  DTRECEBIM     27028 non-null  object \n",
      " 28  DIFDATA       27028 non-null  int64  \n",
      " 29  DTRECORIGA    0 non-null      float64\n",
      " 30  NATURALMAE    26730 non-null  float64\n",
      " 31  CODMUNNATU    26730 non-null  float64\n",
      " 32  CODUFNATU     26730 non-null  float64\n",
      " 33  ESCMAE2010    26779 non-null  float64\n",
      " 34  SERIESCMAE    14318 non-null  float64\n",
      " 35  DTNASCMAE     26988 non-null  float64\n",
      " 36  RACACORMAE    26367 non-null  float64\n",
      " 37  QTDGESTANT    25816 non-null  float64\n",
      " 38  QTDPARTNOR    25149 non-null  float64\n",
      " 39  QTDPARTCES    25237 non-null  float64\n",
      " 40  IDADEPAI      7607 non-null   float64\n",
      " 41  DTULTMENST    16956 non-null  float64\n",
      " 42  SEMAGESTAC    25790 non-null  float64\n",
      " 43  TPMETESTIM    25790 non-null  float64\n",
      " 44  CONSPRENAT    26098 non-null  float64\n",
      " 45  MESPRENAT     24161 non-null  float64\n",
      " 46  TPAPRESENT    26763 non-null  float64\n",
      " 47  STTRABPART    26081 non-null  float64\n",
      " 48  STCESPARTO    26281 non-null  float64\n",
      " 49  TPNASCASSI    26967 non-null  float64\n",
      " 50  TPFUNCRESP    26961 non-null  float64\n",
      " 51  TPDOCRESP     27014 non-null  float64\n",
      " 52  DTDECLARAC    26976 non-null  float64\n",
      " 53  ESCMAEAGR1    26779 non-null  float64\n",
      " 54  STDNEPIDEM    27028 non-null  int64  \n",
      " 55  STDNNOVA      27028 non-null  int64  \n",
      " 56  CODPAISRES    27028 non-null  int64  \n",
      " 57  TPROBSON      27028 non-null  int64  \n",
      " 58  PARIDADE      27028 non-null  int64  \n",
      " 59  KOTELCHUCK    27028 non-null  int64  \n",
      " 60  CONTADOR      27028 non-null  int64  \n",
      " 61  munResStatus  27028 non-null  object \n",
      " 62  munResTipo    27028 non-null  object \n",
      " 63  munResNome    27028 non-null  object \n",
      " 64  munResUf      27028 non-null  object \n",
      " 65  munResLat     27027 non-null  float64\n",
      " 66  munResLon     27027 non-null  float64\n",
      " 67  munResAlt     27027 non-null  float64\n",
      " 68  munResArea    27027 non-null  float64\n",
      "dtypes: float64(38), int64(16), object(15)\n",
      "memory usage: 14.2+ MB\n"
     ]
    }
   ],
   "source": [
    "sinasc_raw.info()"
   ]
  },
  {
   "cell_type": "code",
   "execution_count": 7,
   "metadata": {},
   "outputs": [],
   "source": [
    "sinasc_1 = sinasc_raw[['QTDPARTNOR', 'QTDGESTANT']]"
   ]
  },
  {
   "cell_type": "code",
   "execution_count": 8,
   "metadata": {},
   "outputs": [
    {
     "data": {
      "text/html": [
       "<div>\n",
       "<style scoped>\n",
       "    .dataframe tbody tr th:only-of-type {\n",
       "        vertical-align: middle;\n",
       "    }\n",
       "\n",
       "    .dataframe tbody tr th {\n",
       "        vertical-align: top;\n",
       "    }\n",
       "\n",
       "    .dataframe thead tr th {\n",
       "        text-align: left;\n",
       "    }\n",
       "\n",
       "    .dataframe thead tr:last-of-type th {\n",
       "        text-align: right;\n",
       "    }\n",
       "</style>\n",
       "<table border=\"1\" class=\"dataframe\">\n",
       "  <thead>\n",
       "    <tr>\n",
       "      <th></th>\n",
       "      <th colspan=\"6\" halign=\"left\">QTDPARTNOR</th>\n",
       "      <th colspan=\"6\" halign=\"left\">QTDGESTANT</th>\n",
       "    </tr>\n",
       "    <tr>\n",
       "      <th></th>\n",
       "      <th>sum</th>\n",
       "      <th>mean</th>\n",
       "      <th>min</th>\n",
       "      <th>max</th>\n",
       "      <th>median</th>\n",
       "      <th>std</th>\n",
       "      <th>sum</th>\n",
       "      <th>mean</th>\n",
       "      <th>min</th>\n",
       "      <th>max</th>\n",
       "      <th>median</th>\n",
       "      <th>std</th>\n",
       "    </tr>\n",
       "    <tr>\n",
       "      <th>munResLat</th>\n",
       "      <th></th>\n",
       "      <th></th>\n",
       "      <th></th>\n",
       "      <th></th>\n",
       "      <th></th>\n",
       "      <th></th>\n",
       "      <th></th>\n",
       "      <th></th>\n",
       "      <th></th>\n",
       "      <th></th>\n",
       "      <th></th>\n",
       "      <th></th>\n",
       "    </tr>\n",
       "  </thead>\n",
       "  <tbody>\n",
       "    <tr>\n",
       "      <th>(-14.0, -10.5]</th>\n",
       "      <td>5800.0</td>\n",
       "      <td>0.452242</td>\n",
       "      <td>0.0</td>\n",
       "      <td>41.0</td>\n",
       "      <td>0.0</td>\n",
       "      <td>1.123426</td>\n",
       "      <td>15301.0</td>\n",
       "      <td>1.186032</td>\n",
       "      <td>0.0</td>\n",
       "      <td>15.0</td>\n",
       "      <td>1.0</td>\n",
       "      <td>1.304777</td>\n",
       "    </tr>\n",
       "    <tr>\n",
       "      <th>(-10.5, -7.0]</th>\n",
       "      <td>8771.0</td>\n",
       "      <td>0.711759</td>\n",
       "      <td>0.0</td>\n",
       "      <td>40.0</td>\n",
       "      <td>0.0</td>\n",
       "      <td>1.279042</td>\n",
       "      <td>17615.0</td>\n",
       "      <td>1.364024</td>\n",
       "      <td>0.0</td>\n",
       "      <td>52.0</td>\n",
       "      <td>1.0</td>\n",
       "      <td>1.492482</td>\n",
       "    </tr>\n",
       "  </tbody>\n",
       "</table>\n",
       "</div>"
      ],
      "text/plain": [
       "               QTDPARTNOR                                       QTDGESTANT  \\\n",
       "                      sum      mean  min   max median       std        sum   \n",
       "munResLat                                                                    \n",
       "(-14.0, -10.5]     5800.0  0.452242  0.0  41.0    0.0  1.123426    15301.0   \n",
       "(-10.5, -7.0]      8771.0  0.711759  0.0  40.0    0.0  1.279042    17615.0   \n",
       "\n",
       "                                                      \n",
       "                    mean  min   max median       std  \n",
       "munResLat                                             \n",
       "(-14.0, -10.5]  1.186032  0.0  15.0    1.0  1.304777  \n",
       "(-10.5, -7.0]   1.364024  0.0  52.0    1.0  1.492482  "
      ]
     },
     "execution_count": 8,
     "metadata": {},
     "output_type": "execute_result"
    }
   ],
   "source": [
    "sinasc_1.groupby(faixa_latitude).agg(['sum','mean','min','max','median','std'])"
   ]
  },
  {
   "cell_type": "markdown",
   "metadata": {},
   "source": [
    "### 2. Crie 2 faixas da área dos municípios (munResArea) sendo uma acima e outra abaixo de 3000 e aplique o groupby usando essas faixas como chave e realize operações de soma, media, minimo, maximo, mediana, desvio padrao, variancia pra pelo menos 2 variáveis numéricas ainda não utilizadas\n"
   ]
  },
  {
   "cell_type": "code",
   "execution_count": 9,
   "metadata": {},
   "outputs": [
    {
     "data": {
      "text/plain": [
       "459.978"
      ]
     },
     "execution_count": 9,
     "metadata": {},
     "output_type": "execute_result"
    }
   ],
   "source": [
    "sinasc_raw['munResArea'].min()"
   ]
  },
  {
   "cell_type": "code",
   "execution_count": 10,
   "metadata": {},
   "outputs": [
    {
     "data": {
      "text/plain": [
       "34096.394"
      ]
     },
     "execution_count": 10,
     "metadata": {},
     "output_type": "execute_result"
    }
   ],
   "source": [
    "sinasc_raw['munResArea'].max()"
   ]
  },
  {
   "cell_type": "code",
   "execution_count": 11,
   "metadata": {},
   "outputs": [],
   "source": [
    "faixa_area = pd.cut(sinasc_raw['munResArea'], [0, 3000, 35000])"
   ]
  },
  {
   "cell_type": "code",
   "execution_count": 12,
   "metadata": {},
   "outputs": [],
   "source": [
    "sinasc_2 = sinasc_raw[['IDADEMAE', 'IDADEPAI']]"
   ]
  },
  {
   "cell_type": "code",
   "execution_count": 13,
   "metadata": {},
   "outputs": [
    {
     "data": {
      "text/html": [
       "<div>\n",
       "<style scoped>\n",
       "    .dataframe tbody tr th:only-of-type {\n",
       "        vertical-align: middle;\n",
       "    }\n",
       "\n",
       "    .dataframe tbody tr th {\n",
       "        vertical-align: top;\n",
       "    }\n",
       "\n",
       "    .dataframe thead tr th {\n",
       "        text-align: left;\n",
       "    }\n",
       "\n",
       "    .dataframe thead tr:last-of-type th {\n",
       "        text-align: right;\n",
       "    }\n",
       "</style>\n",
       "<table border=\"1\" class=\"dataframe\">\n",
       "  <thead>\n",
       "    <tr>\n",
       "      <th></th>\n",
       "      <th colspan=\"6\" halign=\"left\">IDADEMAE</th>\n",
       "      <th colspan=\"6\" halign=\"left\">IDADEPAI</th>\n",
       "    </tr>\n",
       "    <tr>\n",
       "      <th></th>\n",
       "      <th>sum</th>\n",
       "      <th>mean</th>\n",
       "      <th>min</th>\n",
       "      <th>max</th>\n",
       "      <th>median</th>\n",
       "      <th>std</th>\n",
       "      <th>sum</th>\n",
       "      <th>mean</th>\n",
       "      <th>min</th>\n",
       "      <th>max</th>\n",
       "      <th>median</th>\n",
       "      <th>std</th>\n",
       "    </tr>\n",
       "    <tr>\n",
       "      <th>munResArea</th>\n",
       "      <th></th>\n",
       "      <th></th>\n",
       "      <th></th>\n",
       "      <th></th>\n",
       "      <th></th>\n",
       "      <th></th>\n",
       "      <th></th>\n",
       "      <th></th>\n",
       "      <th></th>\n",
       "      <th></th>\n",
       "      <th></th>\n",
       "      <th></th>\n",
       "    </tr>\n",
       "  </thead>\n",
       "  <tbody>\n",
       "    <tr>\n",
       "      <th>(0, 3000]</th>\n",
       "      <td>137389</td>\n",
       "      <td>26.324775</td>\n",
       "      <td>11</td>\n",
       "      <td>53</td>\n",
       "      <td>26.0</td>\n",
       "      <td>6.305535</td>\n",
       "      <td>78074.0</td>\n",
       "      <td>31.092792</td>\n",
       "      <td>16.0</td>\n",
       "      <td>69.0</td>\n",
       "      <td>30.0</td>\n",
       "      <td>7.675474</td>\n",
       "    </tr>\n",
       "    <tr>\n",
       "      <th>(3000, 35000]</th>\n",
       "      <td>567848</td>\n",
       "      <td>26.038518</td>\n",
       "      <td>12</td>\n",
       "      <td>53</td>\n",
       "      <td>25.0</td>\n",
       "      <td>6.405497</td>\n",
       "      <td>158424.0</td>\n",
       "      <td>31.094014</td>\n",
       "      <td>15.0</td>\n",
       "      <td>86.0</td>\n",
       "      <td>30.0</td>\n",
       "      <td>7.818364</td>\n",
       "    </tr>\n",
       "  </tbody>\n",
       "</table>\n",
       "</div>"
      ],
      "text/plain": [
       "              IDADEMAE                                      IDADEPAI  \\\n",
       "                   sum       mean min max median       std       sum   \n",
       "munResArea                                                             \n",
       "(0, 3000]       137389  26.324775  11  53   26.0  6.305535   78074.0   \n",
       "(3000, 35000]   567848  26.038518  12  53   25.0  6.405497  158424.0   \n",
       "\n",
       "                                                       \n",
       "                    mean   min   max median       std  \n",
       "munResArea                                             \n",
       "(0, 3000]      31.092792  16.0  69.0   30.0  7.675474  \n",
       "(3000, 35000]  31.094014  15.0  86.0   30.0  7.818364  "
      ]
     },
     "execution_count": 13,
     "metadata": {},
     "output_type": "execute_result"
    }
   ],
   "source": [
    "sinasc_2.groupby(faixa_area).agg(['sum','mean','min','max','median','std'])"
   ]
  },
  {
   "cell_type": "code",
   "execution_count": null,
   "metadata": {},
   "outputs": [],
   "source": []
  },
  {
   "cell_type": "markdown",
   "metadata": {},
   "source": [
    "### 3. Determine faixas na variável munResAlt e aplique o groupby usando essas faixas como chave e realize operações de soma, media, minimo, maximo, mediana, desvio padrao, variancia pra pelo menos 2 variáveis numéricas ainda não utilizadas"
   ]
  },
  {
   "cell_type": "code",
   "execution_count": 14,
   "metadata": {},
   "outputs": [
    {
     "data": {
      "text/plain": [
       "85.0"
      ]
     },
     "execution_count": 14,
     "metadata": {},
     "output_type": "execute_result"
    }
   ],
   "source": [
    "sinasc_raw['munResAlt'].min()"
   ]
  },
  {
   "cell_type": "code",
   "execution_count": 15,
   "metadata": {},
   "outputs": [
    {
     "data": {
      "text/plain": [
       "595.0"
      ]
     },
     "execution_count": 15,
     "metadata": {},
     "output_type": "execute_result"
    }
   ],
   "source": [
    "sinasc_raw['munResAlt'].max()"
   ]
  },
  {
   "cell_type": "code",
   "execution_count": 16,
   "metadata": {},
   "outputs": [
    {
     "data": {
      "text/plain": [
       "[(153.0, 595.0], (84.999, 153.0], NaN]\n",
       "Categories (2, interval[float64, right]): [(84.999, 153.0] < (153.0, 595.0]]"
      ]
     },
     "execution_count": 16,
     "metadata": {},
     "output_type": "execute_result"
    }
   ],
   "source": [
    "faixa_altitude = pd.qcut(sinasc_raw['munResAlt'], 2)\n",
    "faixa_altitude.unique()"
   ]
  },
  {
   "cell_type": "code",
   "execution_count": 17,
   "metadata": {},
   "outputs": [],
   "source": [
    "sinasc_3 = sinasc_raw[['CONSPRENAT','PESO']]"
   ]
  },
  {
   "cell_type": "code",
   "execution_count": 18,
   "metadata": {},
   "outputs": [
    {
     "data": {
      "text/html": [
       "<div>\n",
       "<style scoped>\n",
       "    .dataframe tbody tr th:only-of-type {\n",
       "        vertical-align: middle;\n",
       "    }\n",
       "\n",
       "    .dataframe tbody tr th {\n",
       "        vertical-align: top;\n",
       "    }\n",
       "\n",
       "    .dataframe thead tr th {\n",
       "        text-align: left;\n",
       "    }\n",
       "\n",
       "    .dataframe thead tr:last-of-type th {\n",
       "        text-align: right;\n",
       "    }\n",
       "</style>\n",
       "<table border=\"1\" class=\"dataframe\">\n",
       "  <thead>\n",
       "    <tr>\n",
       "      <th></th>\n",
       "      <th colspan=\"6\" halign=\"left\">CONSPRENAT</th>\n",
       "      <th colspan=\"6\" halign=\"left\">PESO</th>\n",
       "    </tr>\n",
       "    <tr>\n",
       "      <th></th>\n",
       "      <th>sum</th>\n",
       "      <th>mean</th>\n",
       "      <th>min</th>\n",
       "      <th>max</th>\n",
       "      <th>median</th>\n",
       "      <th>std</th>\n",
       "      <th>sum</th>\n",
       "      <th>mean</th>\n",
       "      <th>min</th>\n",
       "      <th>max</th>\n",
       "      <th>median</th>\n",
       "      <th>std</th>\n",
       "    </tr>\n",
       "    <tr>\n",
       "      <th>munResAlt</th>\n",
       "      <th></th>\n",
       "      <th></th>\n",
       "      <th></th>\n",
       "      <th></th>\n",
       "      <th></th>\n",
       "      <th></th>\n",
       "      <th></th>\n",
       "      <th></th>\n",
       "      <th></th>\n",
       "      <th></th>\n",
       "      <th></th>\n",
       "      <th></th>\n",
       "    </tr>\n",
       "  </thead>\n",
       "  <tbody>\n",
       "    <tr>\n",
       "      <th>(84.999, 153.0]</th>\n",
       "      <td>99392.0</td>\n",
       "      <td>7.731176</td>\n",
       "      <td>0.0</td>\n",
       "      <td>99.0</td>\n",
       "      <td>7.0</td>\n",
       "      <td>5.928348</td>\n",
       "      <td>44229404</td>\n",
       "      <td>3246.909705</td>\n",
       "      <td>295</td>\n",
       "      <td>5135</td>\n",
       "      <td>3280.0</td>\n",
       "      <td>559.865952</td>\n",
       "    </tr>\n",
       "    <tr>\n",
       "      <th>(153.0, 595.0]</th>\n",
       "      <td>116045.0</td>\n",
       "      <td>8.764066</td>\n",
       "      <td>0.0</td>\n",
       "      <td>99.0</td>\n",
       "      <td>9.0</td>\n",
       "      <td>4.181286</td>\n",
       "      <td>43424338</td>\n",
       "      <td>3239.413502</td>\n",
       "      <td>258</td>\n",
       "      <td>5985</td>\n",
       "      <td>3265.0</td>\n",
       "      <td>528.970526</td>\n",
       "    </tr>\n",
       "  </tbody>\n",
       "</table>\n",
       "</div>"
      ],
      "text/plain": [
       "                CONSPRENAT                                            PESO  \\\n",
       "                       sum      mean  min   max median       std       sum   \n",
       "munResAlt                                                                    \n",
       "(84.999, 153.0]    99392.0  7.731176  0.0  99.0    7.0  5.928348  44229404   \n",
       "(153.0, 595.0]    116045.0  8.764066  0.0  99.0    9.0  4.181286  43424338   \n",
       "\n",
       "                                                             \n",
       "                        mean  min   max  median         std  \n",
       "munResAlt                                                    \n",
       "(84.999, 153.0]  3246.909705  295  5135  3280.0  559.865952  \n",
       "(153.0, 595.0]   3239.413502  258  5985  3265.0  528.970526  "
      ]
     },
     "execution_count": 18,
     "metadata": {},
     "output_type": "execute_result"
    }
   ],
   "source": [
    "sinasc_3.groupby(faixa_altitude).agg(['sum','mean','min','max','median','std'])"
   ]
  },
  {
   "cell_type": "markdown",
   "metadata": {},
   "source": [
    "### 4. Plote no mesmo grafico ao longo do tempo a idade media das mulheres de cada regiao imediatas de rondonia\n",
    "https://pt.wikipedia.org/wiki/Lista_de_regi%C3%B5es_geogr%C3%A1ficas_intermedi%C3%A1rias_e_imediatas_de_Rond%C3%B4nia"
   ]
  },
  {
   "cell_type": "code",
   "execution_count": 19,
   "metadata": {},
   "outputs": [],
   "source": [
    "imediatas = {\n",
    "    \"Candeias do Jamari\": \"Porto Velho\",\n",
    "    \"Guajará-Mirim\": \"Porto Velho\",\n",
    "    \"Itapuã do Oeste\": \"Porto Velho\",\n",
    "    \"Nova Mamoré\": \"Porto Velho\",\n",
    "    \"Porto Velho\": \"Porto Velho\",\n",
    "    \"Alto Paraíso\": \"Ariquemes\",\n",
    "    \"Ariquemes\": \"Ariquemes\",\n",
    "    \"Buritis\": \"Ariquemes\",\n",
    "    \"Cacaulândia\": \"Ariquemes\",\n",
    "    \"Campo Novo de Rondônia\": \"Ariquemes\",\n",
    "    \"Cujubim\": \"Ariquemes\",\n",
    "    \"Monte Negro\": \"Ariquemes\",\n",
    "    \"Rio Crespo\": \"Ariquemes\",\n",
    "    \"Governador Jorge Teixeira\": \"Jaru\",\n",
    "    \"Jaru\": \"Jaru\",\n",
    "    \"Machadinho d'Oeste\": \"Jaru\",\n",
    "    \"Theobroma\": \"Jaru\",\n",
    "    \"Vale do Anari\": \"Jaru\",\n",
    "    \"Alvorada d'Oeste\": \"Ji-Paraná\",\n",
    "    \"Costa Marques\": \"Ji-Paraná\",\n",
    "    \"Ji-Paraná\": \"Ji-Paraná\",\n",
    "    \"Mirante da Serra\": \"Ji-Paraná\",\n",
    "    \"Nova União\": \"Ji-Paraná\",\n",
    "    \"Ouro Preto do Oeste\": \"Ji-Paraná\",\n",
    "    \"Presidente Médici\": \"Ji-Paraná\",\n",
    "    \"São Francisco do Guaporé\": \"Ji-Paraná\",\n",
    "    \"São Miguel do Guaporé\": \"Ji-Paraná\",\n",
    "    \"Seringueiras\": \"Ji-Paraná\",\n",
    "    \"Teixeirópolis\": \"Ji-Paraná\",\n",
    "    \"Urupá\": \"Ji-Paraná\",\n",
    "    \"Vale do Paraíso\": \"Ji-Paraná\",\n",
    "    \"Alta Floresta d'Oeste\": \"Cacoal\",\n",
    "    \"Alto Alegre dos Parecis\": \"Cacoal\",\n",
    "    \"Cacoal\": \"Cacoal\",\n",
    "    \"Castanheiras\": \"Cacoal\",\n",
    "    \"Espigão d'Oeste\": \"Cacoal\",\n",
    "    \"Ministro Andreazza\": \"Cacoal\",\n",
    "    \"Nova Brasilândia d'Oeste\": \"Cacoal\",\n",
    "    \"Novo Horizonte do Oeste\": \"Cacoal\",\n",
    "    \"Parecis\": \"Cacoal\",\n",
    "    \"Pimenta Bueno\": \"Cacoal\",\n",
    "    \"Primavera de Rondônia\": \"Cacoal\",\n",
    "    \"Rolim de Moura\": \"Cacoal\",\n",
    "    \"Santa Luzia d'Oeste\": \"Cacoal\",\n",
    "    \"São Felipe d'Oeste\": \"Cacoal\",\n",
    "    \"Cabixi\": \"Vilhena\",\n",
    "    \"Cerejeiras\": \"Vilhena\",\n",
    "    \"Chupinguaia\": \"Vilhena\",\n",
    "    \"Colorado do Oeste\": \"Vilhena\",\n",
    "    \"Corumbiara\": \"Vilhena\",\n",
    "    \"Pimenteiras do Oeste\": \"Vilhena\",\n",
    "    \"Vilhena\": \"Vilhena\"\n",
    "}"
   ]
  },
  {
   "cell_type": "code",
   "execution_count": 20,
   "metadata": {},
   "outputs": [
    {
     "data": {
      "image/png": "[encoded data removed]",
      "text/plain": [
       "<Figure size 1500x500 with 1 Axes>"
      ]
     },
     "metadata": {},
     "output_type": "display_data"
    }
   ],
   "source": [
    "sinasc_4 = sinasc_raw.set_index('munResNome')\n",
    "\n",
    "imediata_mae = sinasc_4.groupby(imediatas)['IDADEMAE'].mean().to_frame().plot(figsize=[15,5])"
   ]
  },
  {
   "cell_type": "markdown",
   "metadata": {},
   "source": [
    "### 5. Utilize a tabela do link abaixo e crie faixas utilizando o mapping e gere agrupamentos utilizando essas faixas como chave\n"
   ]
  },
  {
   "cell_type": "markdown",
   "metadata": {},
   "source": [
    "### 5.1 IDH\n",
    "A - https://pt.wikipedia.org/wiki/Lista_de_munic%C3%ADpios_de_Rond%C3%B4nia_por_IDH-M\n"
   ]
  },
  {
   "cell_type": "code",
   "execution_count": 26,
   "metadata": {},
   "outputs": [],
   "source": [
    "# IDH dicionário \n",
    "mapping_idh = {\n",
    "        \"Porto Velho\": \"IDH Alto\",\n",
    "        \"Vilhena\": \"IDH Alto\",\n",
    "        \"Cacoal\": \"IDH Alto\",\n",
    "        \"Ji-Paraná\": \"IDH Alto\",\n",
    "        \"Pimenta Bueno\": \"IDH Alto\",\n",
    "        \"Ariquemes\": \"IDH Alto\",\n",
    "        \"Rolim de Moura\": \"IDH Alto\",\n",
    "        \"Cerejeiras\": \"IDH Médio\",\n",
    "        \"Jaru\": \"IDH Médio\",\n",
    "        \"Colorado do Oeste\": \"IDH Médio\",\n",
    "        \"Ouro Preto do Oeste\": \"IDH Médio\",\n",
    "        \"Espigão d'Oeste\": \"IDH Médio\",\n",
    "        \"Santa Luzia d'Oeste\": \"IDH Médio\",\n",
    "        \"Pimenteiras do Oeste\": \"IDH Médio\",\n",
    "        \"Presidente Médici\": \"IDH Médio\",\n",
    "        \"Castanheiras\": \"IDH Médio\",\n",
    "        \"Guajará-Mirim\": \"IDH Médio\",\n",
    "        \"Chupinguaia\": \"IDH Médio\",\n",
    "        \"Cabixi\": \"IDH Médio\",\n",
    "        \"Candeias do Jamari\": \"IDH Médio\",\n",
    "        \"São Felipe d'Oeste\": \"IDH Médio\",\n",
    "        \"Cacaulândia\": \"IDH Médio\",\n",
    "        \"São Miguel do Guaporé\": \"IDH Médio\",\n",
    "        \"Mirante da Serra\": \"IDH Médio\",\n",
    "        \"Alvorada d'Oeste\": \"IDH Médio\",\n",
    "        \"Teixeirópolis\": \"IDH Médio\",\n",
    "        \"Nova Brasilândia d'Oeste\": \"IDH Médio\",\n",
    "        \"Rio Crespo\": \"IDH Médio\",\n",
    "        \"Primavera de Rondônia\": \"IDH Médio\",\n",
    "        \"Alta Floresta d'Oeste\": \"IDH Médio\",\n",
    "        \"Ministro Andreazza\": \"IDH Médio\",\n",
    "        \"Novo Horizonte do Oeste\": \"IDH Médio\",\n",
    "        \"Vale do Paraíso\": \"IDH Médio\",\n",
    "        \"Alto Paraíso\": \"IDH Médio\",\n",
    "        \"Parecis\": \"IDH Médio\",\n",
    "        \"Buritis\": \"IDH Médio\",\n",
    "        \"Itapuã do Oeste\": \"IDH Médio\",\n",
    "        \"Corumbiara\": \"IDH Médio\",\n",
    "        \"Cujubim\": \"IDH Médio\",\n",
    "        \"Costa Marques\": \"IDH Médio\",\n",
    "        \"São Francisco do Guaporé\": \"IDH Médio\",\n",
    "        \"Urupá\": \"IDH Médio\",\n",
    "        \"Monte Negro\": \"IDH Médio\",\n",
    "        \"Seringueiras\": \"IDH Baixo\",\n",
    "        \"Governador Jorge Teixeira\": \"IDH Baixo\",\n",
    "        \"Machadinho d'Oeste\": \"IDH Baixo\",\n",
    "        \"Campo Novo de Rondônia\": \"IDH Baixo\",\n",
    "        \"Alto Alegre dos Parecis\": \"IDH Baixo\",\n",
    "        \"Theobroma\": \"IDH Baixo\",\n",
    "        \"Nova União\": \"IDH Baixo\",\n",
    "        \"Nova Mamoré\": \"IDH Baixo\",\n",
    "        \"Vale do Anari\": \"IDH Baixo\"\n",
    "}"
   ]
  },
  {
   "cell_type": "code",
   "execution_count": 30,
   "metadata": {},
   "outputs": [
    {
     "name": "stderr",
     "output_type": "stream",
     "text": [
      "C:\\Users\\raise\\AppData\\Local\\Temp\\ipykernel_13920\\3529128656.py:3: FutureWarning: Indexing with multiple keys (implicitly converted to a tuple of keys) will be deprecated, use a list instead.\n",
      "  sinasc_5.groupby(mapping_idh)['CONSULTAS','CONSPRENAT'].agg(['sum', 'mean', 'min', 'max', 'median', 'std', 'var'])\n"
     ]
    },
    {
     "data": {
      "text/html": [
       "<div>\n",
       "<style scoped>\n",
       "    .dataframe tbody tr th:only-of-type {\n",
       "        vertical-align: middle;\n",
       "    }\n",
       "\n",
       "    .dataframe tbody tr th {\n",
       "        vertical-align: top;\n",
       "    }\n",
       "\n",
       "    .dataframe thead tr th {\n",
       "        text-align: left;\n",
       "    }\n",
       "\n",
       "    .dataframe thead tr:last-of-type th {\n",
       "        text-align: right;\n",
       "    }\n",
       "</style>\n",
       "<table border=\"1\" class=\"dataframe\">\n",
       "  <thead>\n",
       "    <tr>\n",
       "      <th></th>\n",
       "      <th colspan=\"7\" halign=\"left\">CONSULTAS</th>\n",
       "      <th colspan=\"7\" halign=\"left\">CONSPRENAT</th>\n",
       "    </tr>\n",
       "    <tr>\n",
       "      <th></th>\n",
       "      <th>sum</th>\n",
       "      <th>mean</th>\n",
       "      <th>min</th>\n",
       "      <th>max</th>\n",
       "      <th>median</th>\n",
       "      <th>std</th>\n",
       "      <th>var</th>\n",
       "      <th>sum</th>\n",
       "      <th>mean</th>\n",
       "      <th>min</th>\n",
       "      <th>max</th>\n",
       "      <th>median</th>\n",
       "      <th>std</th>\n",
       "      <th>var</th>\n",
       "    </tr>\n",
       "    <tr>\n",
       "      <th>munResNome</th>\n",
       "      <th></th>\n",
       "      <th></th>\n",
       "      <th></th>\n",
       "      <th></th>\n",
       "      <th></th>\n",
       "      <th></th>\n",
       "      <th></th>\n",
       "      <th></th>\n",
       "      <th></th>\n",
       "      <th></th>\n",
       "      <th></th>\n",
       "      <th></th>\n",
       "      <th></th>\n",
       "      <th></th>\n",
       "    </tr>\n",
       "  </thead>\n",
       "  <tbody>\n",
       "    <tr>\n",
       "      <th>IDH Alto</th>\n",
       "      <td>59437</td>\n",
       "      <td>3.526372</td>\n",
       "      <td>1</td>\n",
       "      <td>9</td>\n",
       "      <td>4.0</td>\n",
       "      <td>0.839712</td>\n",
       "      <td>0.705116</td>\n",
       "      <td>132898.0</td>\n",
       "      <td>8.239692</td>\n",
       "      <td>0.0</td>\n",
       "      <td>99.0</td>\n",
       "      <td>8.0</td>\n",
       "      <td>5.608648</td>\n",
       "      <td>31.456929</td>\n",
       "    </tr>\n",
       "    <tr>\n",
       "      <th>IDH Baixo</th>\n",
       "      <td>4817</td>\n",
       "      <td>3.632730</td>\n",
       "      <td>1</td>\n",
       "      <td>9</td>\n",
       "      <td>4.0</td>\n",
       "      <td>0.723795</td>\n",
       "      <td>0.523879</td>\n",
       "      <td>10465.0</td>\n",
       "      <td>8.106119</td>\n",
       "      <td>0.0</td>\n",
       "      <td>99.0</td>\n",
       "      <td>8.0</td>\n",
       "      <td>3.694796</td>\n",
       "      <td>13.651521</td>\n",
       "    </tr>\n",
       "    <tr>\n",
       "      <th>IDH Médio</th>\n",
       "      <td>25317</td>\n",
       "      <td>3.663821</td>\n",
       "      <td>1</td>\n",
       "      <td>9</td>\n",
       "      <td>4.0</td>\n",
       "      <td>0.690700</td>\n",
       "      <td>0.477067</td>\n",
       "      <td>56866.0</td>\n",
       "      <td>8.398464</td>\n",
       "      <td>0.0</td>\n",
       "      <td>99.0</td>\n",
       "      <td>8.0</td>\n",
       "      <td>4.630178</td>\n",
       "      <td>21.438544</td>\n",
       "    </tr>\n",
       "  </tbody>\n",
       "</table>\n",
       "</div>"
      ],
      "text/plain": [
       "           CONSULTAS                                              CONSPRENAT  \\\n",
       "                 sum      mean min max median       std       var        sum   \n",
       "munResNome                                                                     \n",
       "IDH Alto       59437  3.526372   1   9    4.0  0.839712  0.705116   132898.0   \n",
       "IDH Baixo       4817  3.632730   1   9    4.0  0.723795  0.523879    10465.0   \n",
       "IDH Médio      25317  3.663821   1   9    4.0  0.690700  0.477067    56866.0   \n",
       "\n",
       "                                                             \n",
       "                mean  min   max median       std        var  \n",
       "munResNome                                                   \n",
       "IDH Alto    8.239692  0.0  99.0    8.0  5.608648  31.456929  \n",
       "IDH Baixo   8.106119  0.0  99.0    8.0  3.694796  13.651521  \n",
       "IDH Médio   8.398464  0.0  99.0    8.0  4.630178  21.438544  "
      ]
     },
     "execution_count": 30,
     "metadata": {},
     "output_type": "execute_result"
    }
   ],
   "source": [
    "sinasc_5 = sinasc_raw.set_index('munResNome')\n",
    "\n",
    "sinasc_5.groupby(mapping_idh)['CONSULTAS','CONSPRENAT'].agg(['sum', 'mean', 'min', 'max', 'median', 'std', 'var'])"
   ]
  },
  {
   "cell_type": "code",
   "execution_count": 32,
   "metadata": {},
   "outputs": [
    {
     "name": "stderr",
     "output_type": "stream",
     "text": [
      "C:\\Users\\raise\\AppData\\Local\\Temp\\ipykernel_13920\\3604178827.py:1: FutureWarning: Indexing with multiple keys (implicitly converted to a tuple of keys) will be deprecated, use a list instead.\n",
      "  sinasc_5.groupby(mapping_idh)['CONSULTAS','CONSPRENAT'].agg(['sum']).plot(figsize=[15,5])\n"
     ]
    },
    {
     "data": {
      "text/plain": [
       "<AxesSubplot:xlabel='munResNome'>"
      ]
     },
     "execution_count": 32,
     "metadata": {},
     "output_type": "execute_result"
    },
    {
     "data": {
      "image/png": "[encoded data removed]",
      "text/plain": [
       "<Figure size 1500x500 with 1 Axes>"
      ]
     },
     "metadata": {},
     "output_type": "display_data"
    }
   ],
   "source": [
    "sinasc_5.groupby(mapping_idh)['CONSULTAS','CONSPRENAT'].agg(['sum']).plot(figsize=[15,5])"
   ]
  },
  {
   "cell_type": "code",
   "execution_count": null,
   "metadata": {},
   "outputs": [],
   "source": []
  },
  {
   "cell_type": "markdown",
   "metadata": {},
   "source": [
    "### 5.2 IFDM \n",
    "B - https://pt.wikipedia.org/wiki/Lista_de_munic%C3%ADpios_de_Rond%C3%B4nia_por_IFDM\n"
   ]
  },
  {
   "cell_type": "code",
   "execution_count": 36,
   "metadata": {},
   "outputs": [],
   "source": [
    "mapping_ifdm = {\n",
    "    \"Ariquemes\": \"IFDM Moderado\",\n",
    "    \"Vilhena\": \"IFDM Moderado\",\n",
    "    \"Pimenta Bueno\": \"IFDM Moderado\",\n",
    "    \"Porto Velho\": \"IFDM Moderado\",\n",
    "    \"Ji-Paraná\": \"IFDM Moderado\",\n",
    "    \"Cacoal\": \"IFDM Moderado\",\n",
    "    \"Santa Luzia d'Oeste\": \"IFDM Moderado\",\n",
    "    \"Rolim de Moura\": \"IFDM Moderado\",\n",
    "    \"Chupinguaia\": \"IFDM Moderado\",\n",
    "    \"São Miguel do Guaporé\": \"IFDM Moderado\",\n",
    "    \"Pimenteiras do Oeste\": \"IFDM Moderado\",\n",
    "    \"Teixeirópolis\": \"IFDM Moderado\",\n",
    "    \"Colorado do Oeste\": \"IFDM Moderado\",\n",
    "    \"Jaru\": \"IFDM Moderado\",\n",
    "    \"Rio Crespo\": \"IFDM Moderado\",\n",
    "    \"Primavera de Rondônia\": \"IFDM Moderado\",\n",
    "    \"Alta Floresta d'Oeste\": \"IFDM Moderado\",\n",
    "    \"Ouro Preto do Oeste\": \"IFDM Moderado\",\n",
    "    \"São Francisco do Guaporé\": \"IFDM Moderado\",\n",
    "    \"Candeias do Jamari\": \"IFDM Moderado\",\n",
    "    \"Buritis\": \"IFDM Moderado\",\n",
    "    \"São Felipe d'Oeste\": \"IFDM Moderado\",\n",
    "    \"Presidente Médici\": \"IFDM Moderado\",\n",
    "    \"Cerejeiras\": \"IFDM Moderado\",\n",
    "    \"Monte Negro\": \"IFDM Moderado\",\n",
    "    \"Urupá\": \"IFDM Moderado\",\n",
    "    \"Espigão d'Oeste\": \"IFDM Regular\",\n",
    "    \"Seringueiras\": \"IFDM Regular\",\n",
    "    \"Alvorada d'Oeste\": \"IFDM Regular\",\n",
    "    \"Itapuã do Oeste\": \"IFDM Regular\",\n",
    "    \"Cabixi\": \"IFDM Regular\",\n",
    "    \"Novo Horizonte do Oeste\": \"IFDM Regular\",\n",
    "    \"Nova Brasilândia d'Oeste\": \"IFDM Regular\",\n",
    "    \"Vale do Paraíso\": \"IFDM Regular\",\n",
    "    \"Corumbiara\": \"IFDM Regular\",\n",
    "    \"Alto Paraíso\": \"IFDM Regular\",\n",
    "    \"Cacaulândia\": \"IFDM Regular\",\n",
    "    \"Vale do Anari\": \"IFDM Regular\",\n",
    "    \"Ministro Andreazza\": \"IFDM Regular\",\n",
    "    \"Costa Marques\": \"IFDM Regular\",\n",
    "    \"Nova União\": \"IFDM Regular\",\n",
    "    \"Guajará-Mirim\": \"IFDM Regular\",\n",
    "    \"Mirante da Serra\": \"IFDM Regular\",\n",
    "    \"Parecis\": \"IFDM Regular\",\n",
    "    \"Castanheiras\": \"IFDM Regular\",\n",
    "    \"Theobroma\": \"IFDM Regular\",\n",
    "    \"Machadinho d'Oeste\": \"IFDM Regular\",\n",
    "    \"Campo Novo de Rondônia\": \"IFDM Regular\",\n",
    "    \"Nova Mamoré\": \"IFDM Regular\",\n",
    "    \"Cujubim\": \"IFDM Regular\",\n",
    "    \"Alto Alegre dos Parecis\": \"IFDM Regular\",\n",
    "    \"Governador Jorge Teixeira\": \"IFDM Regular\"\n",
    "}"
   ]
  },
  {
   "cell_type": "code",
   "execution_count": 37,
   "metadata": {},
   "outputs": [
    {
     "name": "stderr",
     "output_type": "stream",
     "text": [
      "C:\\Users\\raise\\AppData\\Local\\Temp\\ipykernel_13920\\1753972192.py:1: FutureWarning: Indexing with multiple keys (implicitly converted to a tuple of keys) will be deprecated, use a list instead.\n",
      "  sinasc_5.groupby(mapping_ifdm)['CONSULTAS','CONSPRENAT'].agg(['sum', 'mean', 'min', 'max', 'median', 'std', 'var'])\n"
     ]
    },
    {
     "data": {
      "text/html": [
       "<div>\n",
       "<style scoped>\n",
       "    .dataframe tbody tr th:only-of-type {\n",
       "        vertical-align: middle;\n",
       "    }\n",
       "\n",
       "    .dataframe tbody tr th {\n",
       "        vertical-align: top;\n",
       "    }\n",
       "\n",
       "    .dataframe thead tr th {\n",
       "        text-align: left;\n",
       "    }\n",
       "\n",
       "    .dataframe thead tr:last-of-type th {\n",
       "        text-align: right;\n",
       "    }\n",
       "</style>\n",
       "<table border=\"1\" class=\"dataframe\">\n",
       "  <thead>\n",
       "    <tr>\n",
       "      <th></th>\n",
       "      <th colspan=\"7\" halign=\"left\">CONSULTAS</th>\n",
       "      <th colspan=\"7\" halign=\"left\">CONSPRENAT</th>\n",
       "    </tr>\n",
       "    <tr>\n",
       "      <th></th>\n",
       "      <th>sum</th>\n",
       "      <th>mean</th>\n",
       "      <th>min</th>\n",
       "      <th>max</th>\n",
       "      <th>median</th>\n",
       "      <th>std</th>\n",
       "      <th>var</th>\n",
       "      <th>sum</th>\n",
       "      <th>mean</th>\n",
       "      <th>min</th>\n",
       "      <th>max</th>\n",
       "      <th>median</th>\n",
       "      <th>std</th>\n",
       "      <th>var</th>\n",
       "    </tr>\n",
       "    <tr>\n",
       "      <th>munResNome</th>\n",
       "      <th></th>\n",
       "      <th></th>\n",
       "      <th></th>\n",
       "      <th></th>\n",
       "      <th></th>\n",
       "      <th></th>\n",
       "      <th></th>\n",
       "      <th></th>\n",
       "      <th></th>\n",
       "      <th></th>\n",
       "      <th></th>\n",
       "      <th></th>\n",
       "      <th></th>\n",
       "      <th></th>\n",
       "    </tr>\n",
       "  </thead>\n",
       "  <tbody>\n",
       "    <tr>\n",
       "      <th>IFDM Moderado</th>\n",
       "      <td>76542</td>\n",
       "      <td>3.572389</td>\n",
       "      <td>1</td>\n",
       "      <td>9</td>\n",
       "      <td>4.0</td>\n",
       "      <td>0.803616</td>\n",
       "      <td>0.645798</td>\n",
       "      <td>171932.0</td>\n",
       "      <td>8.333673</td>\n",
       "      <td>0.0</td>\n",
       "      <td>99.0</td>\n",
       "      <td>8.0</td>\n",
       "      <td>5.463957</td>\n",
       "      <td>29.854823</td>\n",
       "    </tr>\n",
       "    <tr>\n",
       "      <th>IFDM Regular</th>\n",
       "      <td>13029</td>\n",
       "      <td>3.554980</td>\n",
       "      <td>1</td>\n",
       "      <td>9</td>\n",
       "      <td>4.0</td>\n",
       "      <td>0.763376</td>\n",
       "      <td>0.582743</td>\n",
       "      <td>28297.0</td>\n",
       "      <td>7.948596</td>\n",
       "      <td>0.0</td>\n",
       "      <td>99.0</td>\n",
       "      <td>8.0</td>\n",
       "      <td>3.891316</td>\n",
       "      <td>15.142341</td>\n",
       "    </tr>\n",
       "  </tbody>\n",
       "</table>\n",
       "</div>"
      ],
      "text/plain": [
       "              CONSULTAS                                               \\\n",
       "                    sum      mean min max median       std       var   \n",
       "munResNome                                                             \n",
       "IFDM Moderado     76542  3.572389   1   9    4.0  0.803616  0.645798   \n",
       "IFDM Regular      13029  3.554980   1   9    4.0  0.763376  0.582743   \n",
       "\n",
       "              CONSPRENAT                                                   \n",
       "                     sum      mean  min   max median       std        var  \n",
       "munResNome                                                                 \n",
       "IFDM Moderado   171932.0  8.333673  0.0  99.0    8.0  5.463957  29.854823  \n",
       "IFDM Regular     28297.0  7.948596  0.0  99.0    8.0  3.891316  15.142341  "
      ]
     },
     "execution_count": 37,
     "metadata": {},
     "output_type": "execute_result"
    }
   ],
   "source": [
    "sinasc_5.groupby(mapping_ifdm)['CONSULTAS','CONSPRENAT'].agg(['sum', 'mean', 'min', 'max', 'median', 'std', 'var'])"
   ]
  },
  {
   "cell_type": "markdown",
   "metadata": {},
   "source": [
    "### 5.3 PIB\n",
    "C - https://pt.wikipedia.org/wiki/Lista_de_munic%C3%ADpios_de_Rond%C3%B4nia_por_PIB\n"
   ]
  },
  {
   "cell_type": "code",
   "execution_count": 38,
   "metadata": {},
   "outputs": [],
   "source": [
    "mapping_pib = {\n",
    "    \"Porto Velho\": \"Acima de 1 bilhão\",\n",
    "    \"Ji-Paraná\": \"Acima de 1 bilhão\",\n",
    "    \"Vilhena\": \"Acima de 1 bilhão\",\n",
    "    \"Ariquemes\": \"Acima de 1 bilhão\",\n",
    "    \"Cacoal\": \"Acima de 1 bilhão\",\n",
    "    \"Jaru\": \"Acima de 1 bilhão\",\n",
    "    \"Rolim de Moura\": \"Acima de 1 bilhão\",\n",
    "    \"Pimenta Bueno\": \"Acima de 1 bilhão\",\n",
    "    \"Guajará-Mirim\": \"Acima de 500 Milhões\",\n",
    "    \"Ouro Preto do Oeste\": \"Acima de 500 Milhões\",\n",
    "    \"Buritis\": \"Acima de 500 Milhões\",\n",
    "    \"Machadinho do Oeste\": \"Acima de 500 Milhões\",\n",
    "    \"Espigão d'Oeste\": \"Acima de 500 Milhões\",\n",
    "    \"São Miguel do Guaporé\": \"Acima de 500 Milhões\",\n",
    "    \"Candeias do Jamari\": \"Acima de 500 Milhões\",\n",
    "    \"Nova Mamoré\": \"Acima de 500 Milhões\",\n",
    "    \"Cerejeiras\": \"Acima de 500 Milhões\",\n",
    "    \"Alta Floresta do Oeste\": \"Acima de 300 Milhões\",\n",
    "    \"Presidente Médici\": \"Acima de 300 Milhões\",\n",
    "    \"Cujubim\": \"Acima de 300 Milhões\",\n",
    "    \"Nova Brasilândia do Oeste\": \"Acima de 300 Milhões\",\n",
    "    \"Alto Paraíso\": \"Acima de 300 Milhões\",\n",
    "    \"São Francisco do Guaporé\": \"Acima de 300 Milhões\",\n",
    "    \"Colorado do Oeste\": \"Acima de 300 Milhões\",\n",
    "    \"Monte Negro\": \"Acima de 200 Milhões\",\n",
    "    \"Alto Alegre dos Parecis\": \"Acima de 200 Milhões\",\n",
    "    \"Campo Novo de Rondônia\": \"Acima de 200 Milhões\",\n",
    "    \"Alvorada do Oeste\": \"Acima de 200 Milhões\",\n",
    "    \"Chupinguaia\": \"Acima de 100 Milhões\",\n",
    "    \"Corumbiara\": \"Acima de 100 Milhões\",\n",
    "    \"Ministro Andreazza\": \"Acima de 100 Milhões\",\n",
    "    \"Urupá\": \"Acima de 100 Milhões\",\n",
    "    \"Costa Marques\": \"Acima de 100 Milhões\",\n",
    "    \"Seringueiras\": \"Acima de 100 Milhões\",\n",
    "    \"Mirante da Serra\": \"Acima de 100 Milhões\",\n",
    "    \"Governador Jorge Teixeira\": \"Acima de 100 Milhões\",\n",
    "    \"Theobroma\": \"Acima de 100 Milhões\",\n",
    "    \"Santa Luzia do Oeste\": \"Acima de 100 Milhões\",\n",
    "    \"Novo Horizonte do Oeste\": \"Acima de 100 Milhões\",\n",
    "    \"Itapuã do Oeste\": \"Acima de 100 Milhões\",\n",
    "    \"Vale do Paraíso\": \"Acima de 100 Milhões\",\n",
    "    \"Cacaulândia\": \"Acima de 100 Milhões\",\n",
    "    \"Cabixi\": \"Acima de 100 Milhões\",\n",
    "    \"Vale do Anari\": \"Acima de 100 Milhões\",\n",
    "    \"Nova União\": \"Até 100 Milhões\",\n",
    "    \"Parecis\": \"Até 100 Milhões\",\n",
    "    \"Rio Crespo\": \"Até 100 Milhões\",\n",
    "    \"Pimenteiras do Oeste\": \"Até 100 Milhões\",\n",
    "    \"Teixeirópolis\": \"Até 100 Milhões\",\n",
    "    \"São Felipe do Oeste\": \"Até 100 Milhões\",\n",
    "    \"Castanheiras\": \"Até 100 Milhões\",\n",
    "    \"Primavera de Rondônia\": \"Até 100 Milhões\"\n",
    "}"
   ]
  },
  {
   "cell_type": "code",
   "execution_count": 42,
   "metadata": {},
   "outputs": [
    {
     "name": "stderr",
     "output_type": "stream",
     "text": [
      "C:\\Users\\raise\\AppData\\Local\\Temp\\ipykernel_13920\\791293575.py:1: FutureWarning: Indexing with multiple keys (implicitly converted to a tuple of keys) will be deprecated, use a list instead.\n",
      "  sinasc_5.groupby(mapping_pib)['CONSULTAS','CONSPRENAT'].agg(['sum', 'mean', 'min', 'max', 'median', 'std', 'var'])\n"
     ]
    },
    {
     "data": {
      "text/html": [
       "<div>\n",
       "<style scoped>\n",
       "    .dataframe tbody tr th:only-of-type {\n",
       "        vertical-align: middle;\n",
       "    }\n",
       "\n",
       "    .dataframe tbody tr th {\n",
       "        vertical-align: top;\n",
       "    }\n",
       "\n",
       "    .dataframe thead tr th {\n",
       "        text-align: left;\n",
       "    }\n",
       "\n",
       "    .dataframe thead tr:last-of-type th {\n",
       "        text-align: right;\n",
       "    }\n",
       "</style>\n",
       "<table border=\"1\" class=\"dataframe\">\n",
       "  <thead>\n",
       "    <tr>\n",
       "      <th></th>\n",
       "      <th colspan=\"7\" halign=\"left\">CONSULTAS</th>\n",
       "      <th colspan=\"7\" halign=\"left\">CONSPRENAT</th>\n",
       "    </tr>\n",
       "    <tr>\n",
       "      <th></th>\n",
       "      <th>sum</th>\n",
       "      <th>mean</th>\n",
       "      <th>min</th>\n",
       "      <th>max</th>\n",
       "      <th>median</th>\n",
       "      <th>std</th>\n",
       "      <th>var</th>\n",
       "      <th>sum</th>\n",
       "      <th>mean</th>\n",
       "      <th>min</th>\n",
       "      <th>max</th>\n",
       "      <th>median</th>\n",
       "      <th>std</th>\n",
       "      <th>var</th>\n",
       "    </tr>\n",
       "    <tr>\n",
       "      <th>munResNome</th>\n",
       "      <th></th>\n",
       "      <th></th>\n",
       "      <th></th>\n",
       "      <th></th>\n",
       "      <th></th>\n",
       "      <th></th>\n",
       "      <th></th>\n",
       "      <th></th>\n",
       "      <th></th>\n",
       "      <th></th>\n",
       "      <th></th>\n",
       "      <th></th>\n",
       "      <th></th>\n",
       "      <th></th>\n",
       "    </tr>\n",
       "  </thead>\n",
       "  <tbody>\n",
       "    <tr>\n",
       "      <th>Acima de 1 bilhão</th>\n",
       "      <td>62805</td>\n",
       "      <td>3.541103</td>\n",
       "      <td>1</td>\n",
       "      <td>9</td>\n",
       "      <td>4.0</td>\n",
       "      <td>0.829606</td>\n",
       "      <td>0.688246</td>\n",
       "      <td>140953.0</td>\n",
       "      <td>8.291353</td>\n",
       "      <td>0.0</td>\n",
       "      <td>99.0</td>\n",
       "      <td>8.0</td>\n",
       "      <td>5.546354</td>\n",
       "      <td>30.762041</td>\n",
       "    </tr>\n",
       "    <tr>\n",
       "      <th>Acima de 100 Milhões</th>\n",
       "      <td>6944</td>\n",
       "      <td>3.747437</td>\n",
       "      <td>1</td>\n",
       "      <td>9</td>\n",
       "      <td>4.0</td>\n",
       "      <td>0.593249</td>\n",
       "      <td>0.351944</td>\n",
       "      <td>15722.0</td>\n",
       "      <td>8.686188</td>\n",
       "      <td>0.0</td>\n",
       "      <td>99.0</td>\n",
       "      <td>8.0</td>\n",
       "      <td>3.607448</td>\n",
       "      <td>13.013684</td>\n",
       "    </tr>\n",
       "    <tr>\n",
       "      <th>Acima de 200 Milhões</th>\n",
       "      <td>1915</td>\n",
       "      <td>3.689788</td>\n",
       "      <td>1</td>\n",
       "      <td>4</td>\n",
       "      <td>4.0</td>\n",
       "      <td>0.584642</td>\n",
       "      <td>0.341807</td>\n",
       "      <td>4161.0</td>\n",
       "      <td>8.126953</td>\n",
       "      <td>1.0</td>\n",
       "      <td>38.0</td>\n",
       "      <td>8.0</td>\n",
       "      <td>2.686761</td>\n",
       "      <td>7.218685</td>\n",
       "    </tr>\n",
       "    <tr>\n",
       "      <th>Acima de 300 Milhões</th>\n",
       "      <td>4679</td>\n",
       "      <td>3.737220</td>\n",
       "      <td>1</td>\n",
       "      <td>9</td>\n",
       "      <td>4.0</td>\n",
       "      <td>0.628745</td>\n",
       "      <td>0.395320</td>\n",
       "      <td>10844.0</td>\n",
       "      <td>8.745161</td>\n",
       "      <td>0.0</td>\n",
       "      <td>99.0</td>\n",
       "      <td>8.0</td>\n",
       "      <td>5.574897</td>\n",
       "      <td>31.079476</td>\n",
       "    </tr>\n",
       "    <tr>\n",
       "      <th>Acima de 500 Milhões</th>\n",
       "      <td>11826</td>\n",
       "      <td>3.525939</td>\n",
       "      <td>1</td>\n",
       "      <td>9</td>\n",
       "      <td>4.0</td>\n",
       "      <td>0.805262</td>\n",
       "      <td>0.648447</td>\n",
       "      <td>25368.0</td>\n",
       "      <td>7.786372</td>\n",
       "      <td>0.0</td>\n",
       "      <td>99.0</td>\n",
       "      <td>8.0</td>\n",
       "      <td>4.852232</td>\n",
       "      <td>23.544156</td>\n",
       "    </tr>\n",
       "    <tr>\n",
       "      <th>Até 100 Milhões</th>\n",
       "      <td>1402</td>\n",
       "      <td>3.718833</td>\n",
       "      <td>1</td>\n",
       "      <td>4</td>\n",
       "      <td>4.0</td>\n",
       "      <td>0.606254</td>\n",
       "      <td>0.367543</td>\n",
       "      <td>3181.0</td>\n",
       "      <td>8.574124</td>\n",
       "      <td>1.0</td>\n",
       "      <td>41.0</td>\n",
       "      <td>9.0</td>\n",
       "      <td>3.073299</td>\n",
       "      <td>9.445166</td>\n",
       "    </tr>\n",
       "  </tbody>\n",
       "</table>\n",
       "</div>"
      ],
      "text/plain": [
       "                     CONSULTAS                                               \\\n",
       "                           sum      mean min max median       std       var   \n",
       "munResNome                                                                    \n",
       "Acima de 1 bilhão        62805  3.541103   1   9    4.0  0.829606  0.688246   \n",
       "Acima de 100 Milhões      6944  3.747437   1   9    4.0  0.593249  0.351944   \n",
       "Acima de 200 Milhões      1915  3.689788   1   4    4.0  0.584642  0.341807   \n",
       "Acima de 300 Milhões      4679  3.737220   1   9    4.0  0.628745  0.395320   \n",
       "Acima de 500 Milhões     11826  3.525939   1   9    4.0  0.805262  0.648447   \n",
       "Até 100 Milhões           1402  3.718833   1   4    4.0  0.606254  0.367543   \n",
       "\n",
       "                     CONSPRENAT                                        \\\n",
       "                            sum      mean  min   max median       std   \n",
       "munResNome                                                              \n",
       "Acima de 1 bilhão      140953.0  8.291353  0.0  99.0    8.0  5.546354   \n",
       "Acima de 100 Milhões    15722.0  8.686188  0.0  99.0    8.0  3.607448   \n",
       "Acima de 200 Milhões     4161.0  8.126953  1.0  38.0    8.0  2.686761   \n",
       "Acima de 300 Milhões    10844.0  8.745161  0.0  99.0    8.0  5.574897   \n",
       "Acima de 500 Milhões    25368.0  7.786372  0.0  99.0    8.0  4.852232   \n",
       "Até 100 Milhões          3181.0  8.574124  1.0  41.0    9.0  3.073299   \n",
       "\n",
       "                                 \n",
       "                            var  \n",
       "munResNome                       \n",
       "Acima de 1 bilhão     30.762041  \n",
       "Acima de 100 Milhões  13.013684  \n",
       "Acima de 200 Milhões   7.218685  \n",
       "Acima de 300 Milhões  31.079476  \n",
       "Acima de 500 Milhões  23.544156  \n",
       "Até 100 Milhões        9.445166  "
      ]
     },
     "execution_count": 42,
     "metadata": {},
     "output_type": "execute_result"
    }
   ],
   "source": [
    "sinasc_5.groupby(mapping_pib)['CONSULTAS','CONSPRENAT'].agg(['sum', 'mean', 'min', 'max', 'median', 'std', 'var'])"
   ]
  },
  {
   "cell_type": "code",
   "execution_count": 43,
   "metadata": {},
   "outputs": [
    {
     "name": "stderr",
     "output_type": "stream",
     "text": [
      "C:\\Users\\raise\\AppData\\Local\\Temp\\ipykernel_13920\\3788366184.py:1: FutureWarning: Indexing with multiple keys (implicitly converted to a tuple of keys) will be deprecated, use a list instead.\n",
      "  sinasc_5.groupby(mapping_pib)['CONSULTAS','CONSPRENAT'].agg(['sum']).plot(figsize=[15,5])\n"
     ]
    },
    {
     "data": {
      "text/plain": [
       "<AxesSubplot:xlabel='munResNome'>"
      ]
     },
     "execution_count": 43,
     "metadata": {},
     "output_type": "execute_result"
    },
    {
     "data": {
      "image/png": "[encoded data removed]",
      "text/plain": [
       "<Figure size 1500x500 with 1 Axes>"
      ]
     },
     "metadata": {},
     "output_type": "display_data"
    }
   ],
   "source": [
    "sinasc_5.groupby(mapping_pib)['CONSULTAS','CONSPRENAT'].agg(['sum']).plot(figsize=[15,5])"
   ]
  },
  {
   "cell_type": "markdown",
   "metadata": {},
   "source": [
    "### Analise as respostas encontradas, tire algum insight delas, conte pra gente algo encontrado nos dados."
   ]
  },
  {
   "cell_type": "markdown",
   "metadata": {},
   "source": [
    "Exemplo:\n",
    "- Ah, descobri que a idade mediana das mulheres que deram a luz no ano de 2019 dos municipios com o PIB mais alto é a maior dentre todas."
   ]
  },
  {
   "cell_type": "markdown",
   "metadata": {},
   "source": [
    " - Pessoas que moram em Municipios com IDH Alto vão mais a consultas na fase pré-natal e após.\n",
    " - Quanto maior o PIB mais as pessoas comparecem as consultas naquele municipio.\n",
    " - A região imediata de Cacoal possui a maior idade mediana das mães."
   ]
  },
  {
   "cell_type": "code",
   "execution_count": null,
   "metadata": {},
   "outputs": [],
   "source": []
  }
 ],
 "metadata": {
  "kernelspec": {
   "display_name": "Python 3 (ipykernel)",
   "language": "python",
   "name": "python3"
  },
  "language_info": {
   "codemirror_mode": {
    "name": "ipython",
    "version": 3
   },
   "file_extension": ".py",
   "mimetype": "text/x-python",
   "name": "python",
   "nbconvert_exporter": "python",
   "pygments_lexer": "ipython3",
   "version": "3.9.13"
  },
  "varInspector": {
   "cols": {
    "lenName": 16,
    "lenType": 16,
    "lenVar": 40
   },
   "kernels_config": {
    "python": {
     "delete_cmd_postfix": "",
     "delete_cmd_prefix": "del ",
     "library": "var_list.py",
     "varRefreshCmd": "print(var_dic_list())"
    },
    "r": {
     "delete_cmd_postfix": ") ",
     "delete_cmd_prefix": "rm(",
     "library": "var_list.r",
     "varRefreshCmd": "cat(var_dic_list()) "
    }
   },
   "types_to_exclude": [
    "module",
    "function",
    "builtin_function_or_method",
    "instance",
    "_Feature"
   ],
   "window_display": false
  }
 },
 "nbformat": 4,
 "nbformat_minor": 4
}

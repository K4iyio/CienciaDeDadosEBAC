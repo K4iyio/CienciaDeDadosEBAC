{
 "cells": [
  {
   "cell_type": "markdown",
   "id": "5aa065b0",
   "metadata": {},
   "source": [
    "## Diferenças entre Random Forest e AdaBoost:\n",
    "\n",
    "1 -<br/>\n",
    "**Random Forest**: Usa várias árvores independentes e combina suas respostas.\n",
    "\n",
    "**AdaBoost**: Usa modelos fracos em sequência, dando mais atenção aos erros anteriores.\n",
    "\n",
    "2 -<br/>\n",
    "**Random Forest**: Trata todas as instâncias igualmente.\n",
    "\n",
    "**AdaBoost**: Dá mais importância às instâncias que foram classificadas incorretamente anteriormente, por causa do uso de peso de cada linha. \n",
    "\n",
    "3 -<br/>\n",
    "**Random Forest**: Cada árvore pode ser complexa.\n",
    "\n",
    "**AdaBoost**: Usa modelos fracos, geralmente stumps/simples.\n",
    "\n",
    "4 -<br/>\n",
    "**Random Forest**: Cada árvore no Random Forest é construída de forma independente e aleatória, usando uma seleção aleatória de recursos para divisões em cada nó. Isso promove a diversidade das árvores.\n",
    "    \n",
    "**AdaBoost**: As árvores no AdaBoost são construídas sequencialmente, onde cada árvore subsequentemente dá mais atenção às instâncias que foram classificadas erroneamente pelas árvores anteriores. Isso foca em melhorar o desempenho nas áreas onde os modelos anteriores tiveram dificuldades.\n",
    "\n",
    "5 -<br/>\n",
    "**Random Forest**: Gera um grande número de modelos fracos (geralmente muitas árvores de decisão).\n",
    "    \n",
    "**AdaBoost**: Normalmente, utiliza um número menor de modelos fracos (geralmente árvores de decisão simples). O foco está na melhoria iterativa do desempenho desses modelos fracos "
   ]
  },
  {
   "cell_type": "code",
   "execution_count": 2,
   "id": "c9b0f300",
   "metadata": {},
   "outputs": [
    {
     "data": {
      "text/plain": [
       "0.9466666666666665"
      ]
     },
     "execution_count": 2,
     "metadata": {},
     "output_type": "execute_result"
    }
   ],
   "source": [
    "from sklearn.model_selection import cross_val_score\n",
    "from sklearn.datasets import load_iris\n",
    "from sklearn.ensemble import AdaBoostClassifier\n",
    "\n",
    "X, y = load_iris(return_X_y=True)\n",
    "clf = AdaBoostClassifier(n_estimators=100)\n",
    "score = cross_val_score(clf, X, y, cv=5)\n",
    "score.mean()"
   ]
  },
  {
   "cell_type": "markdown",
   "id": "83f8a874",
   "metadata": {},
   "source": [
    "## Hyperparametros AdaBoost:\n",
    "\n",
    "### - n_estimators: Número de modelos fracos no conjunto.\n",
    "### - learning_rate: Controla a contribuição de cada modelo fraco.\n",
    "### - base_estimator: Especifica o algoritmo do modelo fraco (normalmente árvore de decisão).\n",
    "### - base_estimator__criterion: Critério de divisão para árvores de decisão.\n",
    "### - sample_weight: Permite atribuir pesos diferentes às instâncias de treinamento.\n"
   ]
  }
 ],
 "metadata": {
  "kernelspec": {
   "display_name": "Python 3 (ipykernel)",
   "language": "python",
   "name": "python3"
  },
  "language_info": {
   "codemirror_mode": {
    "name": "ipython",
    "version": 3
   },
   "file_extension": ".py",
   "mimetype": "text/x-python",
   "name": "python",
   "nbconvert_exporter": "python",
   "pygments_lexer": "ipython3",
   "version": "3.9.13"
  }
 },
 "nbformat": 4,
 "nbformat_minor": 5
}

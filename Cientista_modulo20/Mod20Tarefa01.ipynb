{
 "cells": [
  {
   "cell_type": "markdown",
   "id": "c625c811",
   "metadata": {},
   "source": [
    "# Tarefa 1 \n",
    "\n",
    "Escreva o texto abaixo usando markdown e LaTeX\n",
    "\n",
    "![Tarefa2.png](./Tarefa2.png)\n",
    "\n",
    "## Fórmula de Bhaskara\n",
    "\n",
    "A solução para uma função de segundo grau depende das suas raízes (valores de x). Como já vimos, os coeficientes<br>\n",
    "precisam ser números reais e o angular diferente de zero. Sendo assim, temos a seguinte fórmula de Bhaskara:\n",
    "<br>\n",
    "<br>\n",
    "# $$x=\\frac{-b\\pm\\sqrt{b^2-4.a.c}}{2.a}$$\n",
    "<center><em>Fórmula de Bhaskara</em></center>\n",
    "<br>\n",
    "<br>\n",
    "Para melhor compreensão o seu cálculo é dividido em duas partes: discriminates da equação e operações para<br>determinar as raízes.\n",
    "<br>\n",
    "\n",
    "### Discriminante\n",
    "\n",
    "A figura dentro da raiz na fórmula de Bhaskara é nomeada de discriminante. Seu símbolo é a letra grega delta e<br>\n",
    "apresenta a determinada fórmula:\n",
    "<br>\n",
    "<br>\n",
    "# $$\\Delta = b^2 - 4.a.c$$\n",
    "<center><em>Fórmula da discriminante</em></center>\n",
    "<br>\n",
    "<br>\n",
    "\n",
    "- Se o delta for maior que zero, a equação terá dois valores reais e distintos.\n",
    "- Se o delta for igual a zero, a equação terá somente um valor real ou dois resultados iguais.\n",
    "- Se o delta for menor que zero, a equação não possuirá valores reais."
   ]
  },
  {
   "cell_type": "code",
   "execution_count": null,
   "id": "a21bb240",
   "metadata": {},
   "outputs": [],
   "source": []
  }
 ],
 "metadata": {
  "kernelspec": {
   "display_name": "Python 3 (ipykernel)",
   "language": "python",
   "name": "python3"
  },
  "language_info": {
   "codemirror_mode": {
    "name": "ipython",
    "version": 3
   },
   "file_extension": ".py",
   "mimetype": "text/x-python",
   "name": "python",
   "nbconvert_exporter": "python",
   "pygments_lexer": "ipython3",
   "version": "3.9.13"
  }
 },
 "nbformat": 4,
 "nbformat_minor": 5
}
